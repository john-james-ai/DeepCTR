{
 "cells": [
  {
   "cell_type": "markdown",
   "id": "db1e961e",
   "metadata": {},
   "source": [
    "# Preface\n",
    "## Deep Learning in Digital Advertising\n",
    "## Academia / Industry Knowledge Transfer Gap\n",
    "## Barriers to Reproducibility\n",
    "Standing on the feet of giants\n",
    "## Objectives\n",
    "## Contributions\n",
    " - Deep Learning State-of-the-Art Review\n",
    " - Neural Architecture Search Survey\n",
    " - Evaluation Framework\n",
    " - Multiple Diverse Industrial Datasets\n",
    " - Imbalanced Learning\n",
    " - Reproducibility\n",
    "## Intended Audience\n",
    "## Frameworks\n",
    "## How to use this Book\n",
    "## Table of Contents\n",
    "## License\n",
    "## Acknowledgments"
   ]
  }
 ],
 "metadata": {
  "jupytext": {
   "text_representation": {
    "extension": ".md",
    "format_name": "myst",
    "format_version": 0.13,
    "jupytext_version": "1.10.3"
   }
  },
  "kernelspec": {
   "display_name": "Python 3",
   "language": "python",
   "name": "python3"
  },
  "language_info": {
   "codemirror_mode": {
    "name": "ipython",
    "version": 3
   },
   "file_extension": ".py",
   "mimetype": "text/x-python",
   "name": "python",
   "nbconvert_exporter": "python",
   "pygments_lexer": "ipython3",
   "version": "3.8.13"
  },
  "source_map": [
   12
  ]
 },
 "nbformat": 4,
 "nbformat_minor": 5
}