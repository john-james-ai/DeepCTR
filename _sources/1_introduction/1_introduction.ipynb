{
 "cells": [
  {
   "cell_type": "markdown",
   "id": "6503ef66",
   "metadata": {},
   "source": [
    "# Introduction\n",
    "- digital advertising\n",
    "- deep_learning in digital advertising\n",
    "- nas in digital advertising\n",
    "- evaluation of nas vis-a-vis sota\n",
    "- modular, extendable, framework for digital advertising predictive analytics"
   ]
  }
 ],
 "metadata": {
  "jupytext": {
   "text_representation": {
    "extension": ".md",
    "format_name": "myst",
    "format_version": 0.13,
    "jupytext_version": "1.10.3"
   }
  },
  "kernelspec": {
   "display_name": "Python 3",
   "language": "python",
   "name": "python3"
  },
  "language_info": {
   "codemirror_mode": {
    "name": "ipython",
    "version": 3
   },
   "file_extension": ".py",
   "mimetype": "text/x-python",
   "name": "python",
   "nbconvert_exporter": "python",
   "pygments_lexer": "ipython3",
   "version": "3.8.13"
  },
  "source_map": [
   12
  ]
 },
 "nbformat": 4,
 "nbformat_minor": 5
}