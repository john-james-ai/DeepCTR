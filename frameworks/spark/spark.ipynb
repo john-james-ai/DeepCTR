{
 "cells": [
  {
   "cell_type": "markdown",
   "metadata": {},
   "source": [
    "# Spark Notes"
   ]
  },
  {
   "cell_type": "markdown",
   "metadata": {},
   "source": [
    "## Installation Options\n",
    "### AWS EC2"
   ]
  },
  {
   "cell_type": "markdown",
   "metadata": {},
   "source": [
    "## Spark / Database IO\n",
    "Source: [Read and Write DataFrame from Database using Pyspark](https://www.arundhaj.com/blog/read-write-dataframe-from-database-pyspark.html)"
   ]
  },
  {
   "cell_type": "code",
   "execution_count": null,
   "metadata": {},
   "outputs": [],
   "source": [
    "# To load a DataFrame from a MySQL table in PySpark\n",
    "source_df = sqlContext.read.format('jdbc').options(\n",
    "          url='jdbc:mysql://localhost/database_name',\n",
    "          driver='com.mysql.jdbc.Driver',\n",
    "          dbtable='SourceTableName',\n",
    "          user='your_user_name',\n",
    "          password='your_password').load()"
   ]
  },
  {
   "cell_type": "code",
   "execution_count": null,
   "metadata": {},
   "outputs": [],
   "source": [
    "# And to write a DataFrame to a MySQL table\n",
    "destination_df.write.format('jdbc').options(\n",
    "          url='jdbc:mysql://localhost/database_name',\n",
    "          driver='com.mysql.jdbc.Driver',\n",
    "          dbtable='DestinationTableName',\n",
    "          user='your_user_name',\n",
    "          password='your_password').mode('append').save()"
   ]
  },
  {
   "cell_type": "code",
   "execution_count": null,
   "metadata": {
    "vscode": {
     "languageId": "shellscript"
    }
   },
   "outputs": [],
   "source": [
    "# While submitting the spark program, use the following command\n",
    "bin/spark-submit --jars external/mysql-connector-java-5.1.40-bin.jar\n",
    "      /path_to_your_program/spark_database.py"
   ]
  }
 ],
 "metadata": {
  "language_info": {
   "name": "python"
  },
  "orig_nbformat": 4
 },
 "nbformat": 4,
 "nbformat_minor": 2
}
