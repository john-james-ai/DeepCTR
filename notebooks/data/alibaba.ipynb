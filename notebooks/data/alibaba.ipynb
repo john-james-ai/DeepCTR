{
 "cells": [
  {
   "cell_type": "markdown",
   "metadata": {},
   "source": [
    "# Alibaba \n",
    "## Data Aquisition"
   ]
  },
  {
   "cell_type": "code",
   "execution_count": null,
   "metadata": {},
   "outputs": [],
   "source": [
    "import pandas as pd\n",
    "from deepctr.data.base import DagBuilder\n",
    "from deepctr.utils.io import YamlIO"
   ]
  },
  {
   "cell_type": "code",
   "execution_count": null,
   "metadata": {},
   "outputs": [],
   "source": [
    "mode = 'production'\n",
    "config_filepath = \"config/alibaba.yml\"\n",
    "yaml = YamlIO()\n",
    "config = yaml.read(config_filepath)\n",
    "builder = DagBuilder(config=config)\n",
    "dag = builder.build()\n",
    "dag.run()\n"
   ]
  }
 ],
 "metadata": {
  "language_info": {
   "name": "python"
  }
 },
 "nbformat": 4,
 "nbformat_minor": 2
}
