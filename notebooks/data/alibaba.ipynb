{
    "cells": [
        {
            "cell_type": "markdown",
            "metadata": {},
            "source": [
                "# Alibaba \n",
                "## Extract Transform Load\n",
                "This notebook "
            ]
        },
        {
            "cell_type": "code",
            "execution_count": 1,
            "metadata": {},
            "outputs": [],
            "source": [
                "import pandas as pd\n",
                "from deepctr.data.dag import DagBuilder\n",
                "from deepctr.utils.io import YamlIO"
            ]
        },
        {
            "cell_type": "code",
            "execution_count": 2,
            "metadata": {},
            "outputs": [
                {
                    "name": "stdout",
                    "output_type": "stream",
                    "text": [
                        "Module: alibaba\t\tTask 1:\textract_alibaba_production\tComplete.\tDuration: 0.0 seconds.\n",
                        "Module: alibaba\t\tTask 2:\texpand_alibaba_production\tComplete.\tDuration: 0.0 seconds.\n"
                    ]
                }
            ],
            "source": [
                "mode = 'production'\n",
                "config_filepath = \"config/alibaba.yml\"\n",
                "yaml = YamlIO()\n",
                "config = yaml.read(config_filepath)\n",
                "builder = DagBuilder(config=config[mode])\n",
                "dag = builder.build()\n",
                "dag.run()\n"
            ]
        },
        {
            "cell_type": "markdown",
            "metadata": {},
            "source": [
                "# Data Inspection"
            ]
        },
        {
            "cell_type": "code",
            "execution_count": 4,
            "metadata": {},
            "outputs": [],
            "source": [
                "def inspect(name, filepath):\n",
                "    \n",
                "    df = pd.read_csv(filepath, index_col=False)\n",
                "    code = compile(source='name',filename=\"<string>\", mode='eval')\n",
                "    eval(code)        \n",
                "    print(\"\\n\\nDataset {} has {} columns and {} observations\".format(name.capitalize(), str(df.shape[1]), str(df.shape[0])),\"\\n\")\n",
                "    print(df.info())\n",
                "    print(df.head())        \n"
            ]
        },
        {
            "cell_type": "code",
            "execution_count": 5,
            "metadata": {},
            "outputs": [
                {
                    "name": "stdout",
                    "output_type": "stream",
                    "text": [
                        "\n",
                        "\n",
                        "Dataset Raw has 6 columns and 26557961 observations \n",
                        "\n",
                        "<class 'pandas.core.frame.DataFrame'>\n",
                        "RangeIndex: 26557961 entries, 0 to 26557960\n",
                        "Data columns (total 6 columns):\n",
                        " #   Column      Dtype \n",
                        "---  ------      ----- \n",
                        " 0   user        int64 \n",
                        " 1   time_stamp  int64 \n",
                        " 2   adgroup_id  int64 \n",
                        " 3   pid         object\n",
                        " 4   nonclk      int64 \n",
                        " 5   clk         int64 \n",
                        "dtypes: int64(5), object(1)\n",
                        "memory usage: 1.2+ GB\n",
                        "None\n",
                        "    user   time_stamp  adgroup_id     pid       nonclk  clk\n",
                        "0  581738  1494137644       1      430548_1007     1     0 \n",
                        "1  449818  1494638778       3      430548_1007     1     0 \n",
                        "2  914836  1494650879       4      430548_1007     1     0 \n",
                        "3  914836  1494651029       5      430548_1007     1     0 \n",
                        "4  399907  1494302958       8      430548_1007     1     0 \n",
                        "\n",
                        "\n",
                        "Dataset User has 9 columns and 1061768 observations \n",
                        "\n",
                        "<class 'pandas.core.frame.DataFrame'>\n",
                        "RangeIndex: 1061768 entries, 0 to 1061767\n",
                        "Data columns (total 9 columns):\n",
                        " #   Column                 Non-Null Count    Dtype  \n",
                        "---  ------                 --------------    -----  \n",
                        " 0   userid                 1061768 non-null  int64  \n",
                        " 1   cms_segid              1061768 non-null  int64  \n",
                        " 2   cms_group_id           1061768 non-null  int64  \n",
                        " 3   final_gender_code      1061768 non-null  int64  \n",
                        " 4   age_level              1061768 non-null  int64  \n",
                        " 5   pvalue_level           485851 non-null   float64\n",
                        " 6   shopping_level         1061768 non-null  int64  \n",
                        " 7   occupation             1061768 non-null  int64  \n",
                        " 8   new_user_class_level   716848 non-null   float64\n",
                        "dtypes: float64(2), int64(7)\n",
                        "memory usage: 72.9 MB\n",
                        "None\n",
                        "   userid  cms_segid  cms_group_id  final_gender_code  age_level  pvalue_level  shopping_level  occupation  new_user_class_level \n",
                        "0    234       0            5               2              5           NaN             3             0               3.0         \n",
                        "1    523       5            2               2              2           1.0             3             1               2.0         \n",
                        "2    612       0            8               1              2           2.0             3             0               NaN         \n",
                        "3   1670       0            4               2              4           NaN             1             0               NaN         \n",
                        "4   2545       0           10               1              4           NaN             3             0               NaN         \n",
                        "\n",
                        "\n",
                        "Dataset Ad has 6 columns and 846811 observations \n",
                        "\n",
                        "<class 'pandas.core.frame.DataFrame'>\n",
                        "RangeIndex: 846811 entries, 0 to 846810\n",
                        "Data columns (total 6 columns):\n",
                        " #   Column       Non-Null Count   Dtype  \n",
                        "---  ------       --------------   -----  \n",
                        " 0   adgroup_id   846811 non-null  int64  \n",
                        " 1   cate_id      846811 non-null  int64  \n",
                        " 2   campaign_id  846811 non-null  int64  \n",
                        " 3   customer     846811 non-null  int64  \n",
                        " 4   brand        600481 non-null  float64\n",
                        " 5   price        846811 non-null  float64\n",
                        "dtypes: float64(2), int64(4)\n",
                        "memory usage: 38.8 MB\n",
                        "None\n",
                        "   adgroup_id  cate_id  campaign_id  customer    brand    price\n",
                        "0     63133     6406       83237         1      95471.0  170.00\n",
                        "1    313401     6406       83237         1      87331.0  199.00\n",
                        "2    248909      392       83237         1      32233.0   38.00\n",
                        "3    208458      392       83237         1     174374.0  139.00\n",
                        "4    110847     7211      135256         2     145952.0   32.99\n",
                        "\n",
                        "\n",
                        "Dataset Behavior has 5 columns and 723268134 observations \n",
                        "\n",
                        "<class 'pandas.core.frame.DataFrame'>\n",
                        "RangeIndex: 723268134 entries, 0 to 723268133\n",
                        "Data columns (total 5 columns):\n",
                        " #   Column      Dtype \n",
                        "---  ------      ----- \n",
                        " 0   user        int64 \n",
                        " 1   time_stamp  int64 \n",
                        " 2   btag        object\n",
                        " 3   cate        int64 \n",
                        " 4   brand       int64 \n",
                        "dtypes: int64(4), object(1)\n",
                        "memory usage: 26.9+ GB\n",
                        "None\n",
                        "    user   time_stamp btag  cate    brand\n",
                        "0  558157  1493741625  pv    6250   91286\n",
                        "1  558157  1493741626  pv    6250   91286\n",
                        "2  558157  1493741627  pv    6250   91286\n",
                        "3  728690  1493776998  pv   11800   62353\n",
                        "4  332634  1493809895  pv    1101  365477\n"
                    ]
                }
            ],
            "source": [
                "files = {'raw': \"data/alibaba/production/raw/raw_sample.csv\", 'user': \"data/alibaba/production/raw/user_profile.csv\",'ad': \"data/alibaba/production/raw/ad_feature.csv\", 'behavior': \"data/alibaba/production/raw/behavior_log.csv\"}\n",
                "for name, filepath in files.items():\n",
                "    inspect(name, filepath)\n"
            ]
        },
        {
            "cell_type": "markdown",
            "metadata": {},
            "source": [
                "## Extract Transform Load\n",
                "This dag performs the extract and transform stages of the pipeline."
            ]
        },
        {
            "cell_type": "code",
            "execution_count": null,
            "metadata": {},
            "outputs": [],
            "source": []
        }
    ],
    "metadata": {
        "interpreter": {
            "hash": "c00d913d0eb820e3b11af8ed9747b68073d193344a46a2eca076e04066ffd785"
        },
        "kernelspec": {
            "display_name": "Python 3.7.12 ('deepctr')",
            "language": "python",
            "name": "python3"
        },
        "language_info": {
            "codemirror_mode": {
                "name": "ipython",
                "version": 3
            },
            "file_extension": ".py",
            "mimetype": "text/x-python",
            "name": "python",
            "nbconvert_exporter": "python",
            "pygments_lexer": "ipython3",
            "version": "3.7.12"
        }
    },
    "nbformat": 4,
    "nbformat_minor": 2
}