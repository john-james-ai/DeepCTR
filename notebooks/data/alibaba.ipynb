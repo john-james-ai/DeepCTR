{
    "cells": [
        {
            "cell_type": "markdown",
            "metadata": {},
            "source": [
                "# Alibaba \n",
                "## Extract Transform Load\n",
                "This notebook "
            ]
        },
        {
            "cell_type": "code",
            "execution_count": 1,
            "metadata": {},
            "outputs": [],
            "source": [
                "import pandas as pd\n",
                "from deepctr.data.dag import DagBuilder\n",
                "from deepctr.utils.io import YamlIO\n",
                "from deepctr.utils.sample import sample_from_file"
            ]
        },
        {
            "cell_type": "code",
            "execution_count": 2,
            "metadata": {},
            "outputs": [],
            "source": [
                "# Flags\n",
                "ETL = False\n",
                "INSPECT = False\n",
                "SAMPLE = True\n",
                "# Parameters\n",
                "SAMPLE_SIZE = 1000\n",
                "HEADER=True\n",
                "# FILEPATHS\n",
                "FILEPATH = {\n",
                "    'raw': {\n",
                "        'impression': 'data/alibaba/raw/raw_sample.csv',\n",
                "        'ad': 'data/alibaba/raw/ad_feature.csv',\n",
                "        'user': 'data/alibaba/raw/user_profile.csv',\n",
                "        'behavior': 'data/alibaba/raw/behavior_log.csv'\n",
                "    },\n",
                "    'development': {\n",
                "        'impression': 'data/alibaba/development/raw_sample.csv',\n",
                "        'ad': 'data/alibaba/development/ad_feature.csv',\n",
                "        'user': 'data/alibaba/development/user_profile.csv',\n",
                "        'behavior': 'data/alibaba/development/behavior_log.csv'        \n",
                "    }\n",
                "}"
            ]
        },
        {
            "cell_type": "code",
            "execution_count": 3,
            "metadata": {},
            "outputs": [],
            "source": [
                "if ETL:\n",
                "    config_filepath = \"config/alibaba.yml\"\n",
                "    yaml = YamlIO()\n",
                "    config = yaml.read(config_filepath)\n",
                "    builder = DagBuilder(config=config)\n",
                "    dag = builder.build()\n",
                "    dag.run()\n"
            ]
        },
        {
            "cell_type": "markdown",
            "metadata": {},
            "source": [
                "# Data Inspection"
            ]
        },
        {
            "cell_type": "code",
            "execution_count": 4,
            "metadata": {},
            "outputs": [],
            "source": [
                "def inspect(name, filepath):\n",
                "    \n",
                "    df = pd.read_csv(filepath, index_col=False)\n",
                "    code = compile(source='name',filename=\"<string>\", mode='eval')\n",
                "    eval(code)        \n",
                "    print(\"\\n\\nDataset {} has {} columns and {} observations\".format(name.capitalize(), str(df.shape[1]), str(df.shape[0])),\"\\n\")\n",
                "    print(df.info())\n",
                "    print(df.head())        \n"
            ]
        },
        {
            "cell_type": "code",
            "execution_count": 5,
            "metadata": {},
            "outputs": [],
            "source": [
                "if INSPECT: \n",
                "    files = {'raw': \"data/alibaba/raw/raw_sample.csv\", 'user': \"data/alibaba/raw/user_profile.csv\",'ad': \"data/alibaba/raw/ad_feature.csv\", 'behavior': \"data/alibaba/raw/behavior_log.csv\"}\n",
                "    for name, filepath in files.items():\n",
                "        inspect(name, filepath)\n"
            ]
        },
        {
            "cell_type": "markdown",
            "metadata": {},
            "source": [
                "## Alibaba Development Set\n",
                "Create development set from 1000 impressions."
            ]
        },
        {
            "cell_type": "code",
            "execution_count": 6,
            "metadata": {},
            "outputs": [],
            "source": [
                "def summarize(df: pd.DataFrame, name: str):\n",
                "    rows = df.shape[0]\n",
                "    cols = df.shape[1]\n",
                "    mem = df.memory_usage(deep=True).sum()\n",
                "    print(\"{} file has {} rows and {} columns. Total memory usage is {} bytes\".format(name, str(rows),str(cols), str(mem)))"
            ]
        },
        {
            "cell_type": "code",
            "execution_count": 7,
            "metadata": {},
            "outputs": [
                {
                    "name": "stdout",
                    "output_type": "stream",
                    "text": [
                        "impression file has 1000 rows and 6 columns. Total memory usage is Index           128\n",
                        "user           8000\n",
                        "time_stamp     8000\n",
                        "adgroup_id     8000\n",
                        "pid           68000\n",
                        "nonclk         8000\n",
                        "clk            8000\n",
                        "dtype: int64 bytes\n"
                    ]
                }
            ],
            "source": [
                "# Sample impressions\n",
                "impression = sample_from_file(source=FILEPATH['raw']['impression'], size=SAMPLE_SIZE, header=HEADER)\n",
                "impression.to_csv(FILEPATH['development']['impression'], header=True, index=False)\n",
                "summarize(df=impression, name='impression')"
            ]
        },
        {
            "cell_type": "code",
            "execution_count": 8,
            "metadata": {},
            "outputs": [
                {
                    "name": "stdout",
                    "output_type": "stream",
                    "text": [
                        "user file has 929 rows and 9 columns. Total memory usage is Index                    7432\n",
                        "userid                   7432\n",
                        "cms_segid                7432\n",
                        "cms_group_id             7432\n",
                        "final_gender_code        7432\n",
                        "age_level                7432\n",
                        "pvalue_level             7432\n",
                        "shopping_level           7432\n",
                        "occupation               7432\n",
                        "new_user_class_level     7432\n",
                        "dtype: int64 bytes\n"
                    ]
                }
            ],
            "source": [
                "# Sample user\n",
                "user = pd.read_csv(FILEPATH['raw']['user'], sep=\",\", header=0,index_col=None, low_memory=False)\n",
                "user = user.loc[user['userid'].isin(impression['user'])]\n",
                "user.to_csv(FILEPATH['development']['user'], header=True, index=False)\n",
                "summarize(df=user, name='user')"
            ]
        },
        {
            "cell_type": "code",
            "execution_count": 9,
            "metadata": {},
            "outputs": [
                {
                    "name": "stdout",
                    "output_type": "stream",
                    "text": [
                        "ad file has 983 rows and 6 columns. Total memory usage is Index          7864\n",
                        "adgroup_id     7864\n",
                        "cate_id        7864\n",
                        "campaign_id    7864\n",
                        "customer       7864\n",
                        "brand          7864\n",
                        "price          7864\n",
                        "dtype: int64 bytes\n"
                    ]
                }
            ],
            "source": [
                "# Sample AD\n",
                "ad = pd.read_csv(FILEPATH['raw']['ad'], sep=\",\", header=0,index_col=None, low_memory=False)\n",
                "ad = ad.loc[ad['adgroup_id'].isin(impression['adgroup_id'])]\n",
                "ad.to_csv(FILEPATH['development']['ad'], header=True, index=False)\n",
                "summarize(df=ad, name='ad')"
            ]
        },
        {
            "cell_type": "code",
            "execution_count": 10,
            "metadata": {},
            "outputs": [
                {
                    "name": "stdout",
                    "output_type": "stream",
                    "text": [
                        "behavior file has 1029638 rows and 5 columns. Total memory usage is Index          8237104\n",
                        "user           8237104\n",
                        "time_stamp     8237104\n",
                        "btag          60811877\n",
                        "cate           8237104\n",
                        "brand          8237104\n",
                        "dtype: int64 bytes\n"
                    ]
                }
            ],
            "source": [
                "# Sample Behavior\n",
                "behavior = pd.read_csv(FILEPATH['raw']['behavior'], sep=\",\", header=0,index_col=None, low_memory=False)\n",
                "behavior = behavior.loc[behavior['user'].isin(impression['user'])]\n",
                "behavior.to_csv(FILEPATH['development']['behavior'], header=True, index=False)\n",
                "summarize(df=behavior, name='behavior')"
            ]
        }
    ],
    "metadata": {
        "interpreter": {
            "hash": "c00d913d0eb820e3b11af8ed9747b68073d193344a46a2eca076e04066ffd785"
        },
        "kernelspec": {
            "display_name": "Python 3.7.12 ('deepctr')",
            "language": "python",
            "name": "python3"
        },
        "language_info": {
            "codemirror_mode": {
                "name": "ipython",
                "version": 3
            },
            "file_extension": ".py",
            "mimetype": "text/x-python",
            "name": "python",
            "nbconvert_exporter": "python",
            "pygments_lexer": "ipython3",
            "version": "3.7.12"
        }
    },
    "nbformat": 4,
    "nbformat_minor": 2
}
