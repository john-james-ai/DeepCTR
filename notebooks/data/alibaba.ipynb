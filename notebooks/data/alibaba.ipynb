{
    "cells": [
        {
            "cell_type": "markdown",
            "metadata": {},
            "source": [
                "# Alibaba \n",
                "## Extract Transform Load\n",
                "This notebook "
            ]
        },
        {
            "cell_type": "code",
            "execution_count": 1,
            "metadata": {},
            "outputs": [
                {
                    "ename": "AttributeError",
                    "evalue": "type object 'pyarrow.lib.Message' has no attribute '__reduce_cython__'",
                    "output_type": "error",
                    "traceback": [
                        "\u001b[0;31m---------------------------------------------------------------------------\u001b[0m",
                        "\u001b[0;31mAttributeError\u001b[0m                            Traceback (most recent call last)",
                        "\u001b[0;32m/tmp/ipykernel_1322/1036638144.py\u001b[0m in \u001b[0;36m<module>\u001b[0;34m\u001b[0m\n\u001b[1;32m      1\u001b[0m \u001b[0;32mimport\u001b[0m \u001b[0mpandas\u001b[0m \u001b[0;32mas\u001b[0m \u001b[0mpd\u001b[0m\u001b[0;34m\u001b[0m\u001b[0;34m\u001b[0m\u001b[0m\n\u001b[1;32m      2\u001b[0m \u001b[0;32mimport\u001b[0m \u001b[0mos\u001b[0m\u001b[0;34m\u001b[0m\u001b[0;34m\u001b[0m\u001b[0m\n\u001b[0;32m----> 3\u001b[0;31m \u001b[0;32mfrom\u001b[0m \u001b[0mdeepctr\u001b[0m\u001b[0;34m.\u001b[0m\u001b[0mdata\u001b[0m\u001b[0;34m.\u001b[0m\u001b[0mdag\u001b[0m \u001b[0;32mimport\u001b[0m \u001b[0mDAGBuilder\u001b[0m\u001b[0;34m\u001b[0m\u001b[0;34m\u001b[0m\u001b[0m\n\u001b[0m\u001b[1;32m      4\u001b[0m \u001b[0;32mfrom\u001b[0m \u001b[0mdeepctr\u001b[0m\u001b[0;34m.\u001b[0m\u001b[0mutils\u001b[0m\u001b[0;34m.\u001b[0m\u001b[0mio\u001b[0m \u001b[0;32mimport\u001b[0m \u001b[0mYamlIO\u001b[0m\u001b[0;34m\u001b[0m\u001b[0;34m\u001b[0m\u001b[0m\n\u001b[1;32m      5\u001b[0m \u001b[0;32mfrom\u001b[0m \u001b[0mdeepctr\u001b[0m\u001b[0;34m.\u001b[0m\u001b[0mutils\u001b[0m\u001b[0;34m.\u001b[0m\u001b[0msample\u001b[0m \u001b[0;32mimport\u001b[0m \u001b[0msample_from_file\u001b[0m\u001b[0;34m\u001b[0m\u001b[0;34m\u001b[0m\u001b[0m\n",
                        "\u001b[0;32m~/projects/DeepCTR/deepctr/data/dag.py\u001b[0m in \u001b[0;36m<module>\u001b[0;34m\u001b[0m\n\u001b[1;32m     26\u001b[0m \u001b[0;32mfrom\u001b[0m \u001b[0mpprint\u001b[0m \u001b[0;32mimport\u001b[0m \u001b[0mpprint\u001b[0m\u001b[0;34m\u001b[0m\u001b[0;34m\u001b[0m\u001b[0m\n\u001b[1;32m     27\u001b[0m \u001b[0;32mfrom\u001b[0m \u001b[0mtyping\u001b[0m \u001b[0;32mimport\u001b[0m \u001b[0mAny\u001b[0m\u001b[0;34m\u001b[0m\u001b[0;34m\u001b[0m\u001b[0m\n\u001b[0;32m---> 28\u001b[0;31m \u001b[0;32mfrom\u001b[0m \u001b[0mdeepctr\u001b[0m\u001b[0;34m.\u001b[0m\u001b[0mutils\u001b[0m\u001b[0;34m.\u001b[0m\u001b[0mio\u001b[0m \u001b[0;32mimport\u001b[0m \u001b[0mYamlIO\u001b[0m\u001b[0;34m\u001b[0m\u001b[0;34m\u001b[0m\u001b[0m\n\u001b[0m\u001b[1;32m     29\u001b[0m \u001b[0;34m\u001b[0m\u001b[0m\n\u001b[1;32m     30\u001b[0m \u001b[0;31m# ------------------------------------------------------------------------------------------------ #\u001b[0m\u001b[0;34m\u001b[0m\u001b[0;34m\u001b[0m\u001b[0;34m\u001b[0m\u001b[0m\n",
                        "\u001b[0;32m~/projects/DeepCTR/deepctr/utils/io.py\u001b[0m in \u001b[0;36m<module>\u001b[0;34m\u001b[0m\n\u001b[1;32m     31\u001b[0m \u001b[0;32mfrom\u001b[0m \u001b[0mpyspark\u001b[0m \u001b[0;32mimport\u001b[0m \u001b[0mSparkContext\u001b[0m\u001b[0;34m,\u001b[0m \u001b[0mSparkConf\u001b[0m\u001b[0;34m\u001b[0m\u001b[0;34m\u001b[0m\u001b[0m\n\u001b[1;32m     32\u001b[0m \u001b[0;32mfrom\u001b[0m \u001b[0mpyspark\u001b[0m\u001b[0;34m.\u001b[0m\u001b[0msql\u001b[0m \u001b[0;32mimport\u001b[0m \u001b[0mSparkSession\u001b[0m\u001b[0;34m,\u001b[0m \u001b[0mDataFrame\u001b[0m\u001b[0;34m\u001b[0m\u001b[0;34m\u001b[0m\u001b[0m\n\u001b[0;32m---> 33\u001b[0;31m \u001b[0;32mimport\u001b[0m \u001b[0mpyarrow\u001b[0m\u001b[0;34m.\u001b[0m\u001b[0mcsv\u001b[0m \u001b[0;32mas\u001b[0m \u001b[0mpv\u001b[0m\u001b[0;34m\u001b[0m\u001b[0;34m\u001b[0m\u001b[0m\n\u001b[0m\u001b[1;32m     34\u001b[0m \u001b[0;32mimport\u001b[0m \u001b[0mpyarrow\u001b[0m\u001b[0;34m.\u001b[0m\u001b[0mparquet\u001b[0m \u001b[0;32mas\u001b[0m \u001b[0mpq\u001b[0m\u001b[0;34m\u001b[0m\u001b[0;34m\u001b[0m\u001b[0m\n\u001b[1;32m     35\u001b[0m \u001b[0;32mfrom\u001b[0m \u001b[0mdeepctr\u001b[0m\u001b[0;34m.\u001b[0m\u001b[0mutils\u001b[0m\u001b[0;34m.\u001b[0m\u001b[0mspark\u001b[0m \u001b[0;32mimport\u001b[0m \u001b[0mto_spark\u001b[0m\u001b[0;34m\u001b[0m\u001b[0;34m\u001b[0m\u001b[0m\n",
                        "\u001b[0;32m~/anaconda3/envs/deepctr/lib/python3.7/site-packages/pyarrow/__init__.py\u001b[0m in \u001b[0;36m<module>\u001b[0;34m\u001b[0m\n\u001b[1;32m     52\u001b[0m \u001b[0;34m\u001b[0m\u001b[0m\n\u001b[1;32m     53\u001b[0m \u001b[0;34m\u001b[0m\u001b[0m\n\u001b[0;32m---> 54\u001b[0;31m \u001b[0;32mfrom\u001b[0m \u001b[0mpyarrow\u001b[0m\u001b[0;34m.\u001b[0m\u001b[0mlib\u001b[0m \u001b[0;32mimport\u001b[0m \u001b[0mcpu_count\u001b[0m\u001b[0;34m,\u001b[0m \u001b[0mset_cpu_count\u001b[0m\u001b[0;34m\u001b[0m\u001b[0;34m\u001b[0m\u001b[0m\n\u001b[0m\u001b[1;32m     55\u001b[0m from pyarrow.lib import (null, bool_,\n\u001b[1;32m     56\u001b[0m                          \u001b[0mint8\u001b[0m\u001b[0;34m,\u001b[0m \u001b[0mint16\u001b[0m\u001b[0;34m,\u001b[0m \u001b[0mint32\u001b[0m\u001b[0;34m,\u001b[0m \u001b[0mint64\u001b[0m\u001b[0;34m,\u001b[0m\u001b[0;34m\u001b[0m\u001b[0;34m\u001b[0m\u001b[0m\n",
                        "\u001b[0;32m~/anaconda3/envs/deepctr/lib/python3.7/site-packages/pyarrow/ipc.pxi\u001b[0m in \u001b[0;36minit pyarrow.lib\u001b[0;34m()\u001b[0m\n",
                        "\u001b[0;31mAttributeError\u001b[0m: type object 'pyarrow.lib.Message' has no attribute '__reduce_cython__'"
                    ]
                }
            ],
            "source": [
                "import pandas as pd\n",
                "from deepctr.data.dag import DAGBuilder\n",
                "from deepctr.utils.io import YamlIO\n",
                "from deepctr.utils.sample import sample_from_file"
            ]
        },
        {
            "cell_type": "code",
            "execution_count": null,
            "metadata": {},
            "outputs": [],
            "source": [
                "os.cpu.count()"
            ]
        },
        {
            "cell_type": "code",
            "execution_count": 2,
            "metadata": {},
            "outputs": [],
            "source": [
                "# Flags\n",
                "ETL = False\n",
                "INSPECT = False\n",
                "SAMPLE = True\n",
                "# Parameters\n",
                "SAMPLE_SIZE = 50000\n",
                "HEADER=True\n",
                "# FILEPATHS\n",
                "FILEPATH = {\n",
                "    'raw': {\n",
                "        'impression': 'data/alibaba/raw/raw_sample.csv',\n",
                "        'ad': 'data/alibaba/raw/ad_feature.csv',\n",
                "        'user': 'data/alibaba/raw/user_profile.csv',\n",
                "        'behavior': 'data/alibaba/raw/behavior_log.csv'\n",
                "    },\n",
                "    'development': {\n",
                "        'impression': 'data/alibaba/development/raw_sample.csv',\n",
                "        'ad': 'data/alibaba/development/ad_feature.csv',\n",
                "        'user': 'data/alibaba/development/user_profile.csv',\n",
                "        'behavior': 'data/alibaba/development/behavior_log.csv'        \n",
                "    }\n",
                "}"
            ]
        },
        {
            "cell_type": "code",
            "execution_count": 3,
            "metadata": {},
            "outputs": [],
            "source": [
                "if ETL:\n",
                "    config_filepath = \"config/alibaba.yml\"\n",
                "    yaml = YamlIO()\n",
                "    config = yaml.read(config_filepath)\n",
                "    builder = DAGBuilder(config=config)\n",
                "    dag = builder.build()\n",
                "    dag.run()\n"
            ]
        },
        {
            "cell_type": "markdown",
            "metadata": {},
            "source": [
                "# Data Inspection"
            ]
        },
        {
            "cell_type": "code",
            "execution_count": 4,
            "metadata": {},
            "outputs": [],
            "source": [
                "def inspect(name, filepath):\n",
                "    \n",
                "    df = pd.read_csv(filepath, index_col=False)\n",
                "    code = compile(source='name',filename=\"<string>\", mode='eval')\n",
                "    eval(code)        \n",
                "    print(\"\\n\\nDataset {} has {} columns and {} observations\".format(name.capitalize(), str(df.shape[1]), str(df.shape[0])),\"\\n\")\n",
                "    print(df.info())\n",
                "    print(df.head())        \n"
            ]
        },
        {
            "cell_type": "code",
            "execution_count": 5,
            "metadata": {},
            "outputs": [],
            "source": [
                "if INSPECT: \n",
                "    files = {'raw': \"data/alibaba/raw/raw_sample.csv\", 'user': \"data/alibaba/raw/user_profile.csv\",'ad': \"data/alibaba/raw/ad_feature.csv\", 'behavior': \"data/alibaba/raw/behavior_log.csv\"}\n",
                "    for name, filepath in files.items():\n",
                "        inspect(name, filepath)\n"
            ]
        },
        {
            "cell_type": "markdown",
            "metadata": {},
            "source": [
                "## Alibaba Development Set\n",
                "Create development set from 1000 impressions."
            ]
        },
        {
            "cell_type": "code",
            "execution_count": 6,
            "metadata": {},
            "outputs": [],
            "source": [
                "def summarize(df: pd.DataFrame, name: str):\n",
                "    rows = df.shape[0]\n",
                "    cols = df.shape[1]\n",
                "    mem = df.memory_usage(deep=True).sum()\n",
                "    print(\"{} file has {} rows and {} columns. Total memory usage is {} bytes\".format(name, str(rows),str(cols), str(mem)))"
            ]
        },
        {
            "cell_type": "code",
            "execution_count": 7,
            "metadata": {},
            "outputs": [
                {
                    "name": "stdout",
                    "output_type": "stream",
                    "text": [
                        "impression file has 50000 rows and 6 columns. Total memory usage is 5400128 bytes\n"
                    ]
                }
            ],
            "source": [
                "# Sample impressions\n",
                "impression = sample_from_file(source=FILEPATH['raw']['impression'], size=SAMPLE_SIZE, header=HEADER)\n",
                "impression.to_csv(FILEPATH['development']['impression'], header=True, index=False)\n",
                "begin_date = impression['time_stamp'].min()\n",
                "end_date = impression['time_stamp'].max()\n",
                "summarize(df=impression, name='impression')"
            ]
        },
        {
            "cell_type": "code",
            "execution_count": 8,
            "metadata": {},
            "outputs": [
                {
                    "name": "stdout",
                    "output_type": "stream",
                    "text": [
                        "user file has 40734 rows and 9 columns. Total memory usage is 3258720 bytes\n"
                    ]
                }
            ],
            "source": [
                "# Sample user\n",
                "user = pd.read_csv(FILEPATH['raw']['user'], sep=\",\", header=0,index_col=None, low_memory=False)\n",
                "user = user.loc[user['userid'].isin(impression['user'])]\n",
                "user.to_csv(FILEPATH['development']['user'], header=True, index=False)\n",
                "summarize(df=user, name='user')"
            ]
        },
        {
            "cell_type": "code",
            "execution_count": 9,
            "metadata": {},
            "outputs": [
                {
                    "name": "stdout",
                    "output_type": "stream",
                    "text": [
                        "ad file has 34683 rows and 6 columns. Total memory usage is 1942248 bytes\n"
                    ]
                }
            ],
            "source": [
                "# Sample AD\n",
                "ad = pd.read_csv(FILEPATH['raw']['ad'], sep=\",\", header=0,index_col=None, low_memory=False)\n",
                "ad = ad.loc[ad['adgroup_id'].isin(impression['adgroup_id'])]\n",
                "ad.to_csv(FILEPATH['development']['ad'], header=True, index=False)\n",
                "summarize(df=ad, name='ad')"
            ]
        },
        {
            "cell_type": "code",
            "execution_count": 10,
            "metadata": {},
            "outputs": [
                {
                    "name": "stdout",
                    "output_type": "stream",
                    "text": [
                        "behavior file has 18473919 rows and 5 columns. Total memory usage is 1830046295 bytes\n"
                    ]
                }
            ],
            "source": [
                "# Sample Behavior\n",
                "behavior = pd.read_csv(FILEPATH['raw']['behavior'], sep=\",\", header=0,index_col=None, low_memory=False)\n",
                "behavior = behavior.loc[(behavior['user'].isin(impression['user'])) & (behavior['time_stamp'] >= begin_date) & (behavior['time_stamp'] <= end_date)]\n",
                "behavior.to_csv(FILEPATH['development']['behavior'], header=True, index=False)\n",
                "summarize(df=behavior, name='behavior')"
            ]
        }
    ],
    "metadata": {
        "interpreter": {
            "hash": "c00d913d0eb820e3b11af8ed9747b68073d193344a46a2eca076e04066ffd785"
        },
        "kernelspec": {
            "display_name": "Python 3.7.12 ('deepctr')",
            "language": "python",
            "name": "python3"
        },
        "language_info": {
            "codemirror_mode": {
                "name": "ipython",
                "version": 3
            },
            "file_extension": ".py",
            "mimetype": "text/x-python",
            "name": "python",
            "nbconvert_exporter": "python",
            "pygments_lexer": "ipython3",
            "version": "3.7.12"
        }
    },
    "nbformat": 4,
    "nbformat_minor": 2
}
