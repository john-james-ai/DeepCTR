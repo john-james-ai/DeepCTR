{
 "cells": [
  {
   "cell_type": "markdown",
   "metadata": {},
   "source": [
    "# Alibaba Data Generation\n",
    "This notebook generates class-proportional, distribution-preserving downsamples of the Alibaba Ad Display Click dataset at downsampling rates of 1% and 10%."
   ]
  },
  {
   "cell_type": "code",
   "execution_count": 10,
   "metadata": {},
   "outputs": [],
   "source": [
    "import numpy as np\n",
    "import pandas as pd\n",
    "import multiprocessing\n",
    "import pickle\n",
    "from scipy.stats import anderson\n",
    "from datetime import datetime\n",
    "from pyspark.sql.functions import col\n",
    "from deepctr.dal.file import DataParams, DataAccessObject"
   ]
  },
  {
   "cell_type": "markdown",
   "metadata": {},
   "source": [
    "## Impressions Data"
   ]
  },
  {
   "cell_type": "code",
   "execution_count": 11,
   "metadata": {},
   "outputs": [
    {
     "name": "stdout",
     "output_type": "stream",
     "text": [
      "     user  time_stamp  adgroup_id          pid  nonclk  clk\n",
      "0  581738  1494137644           1  430548_1007       1    0\n",
      "1  449818  1494638778           3  430548_1007       1    0\n",
      "2  914836  1494650879           4  430548_1007       1    0\n",
      "3  914836  1494651029           5  430548_1007       1    0\n",
      "4  399907  1494302958           8  430548_1007       1    0\n"
     ]
    }
   ],
   "source": [
    "filepath = \"data/alibaba/vesuvio/raw/raw_sample.csv\"\n",
    "df = pd.read_csv(filepath, header=0, low_memory=False)\n",
    "print(df.head())"
   ]
  },
  {
   "cell_type": "code",
   "execution_count": 15,
   "metadata": {},
   "outputs": [],
   "source": [
    "def distribution_numeric(column: str, data: int) -> dict:\n",
    "    data = data.dropna().values\n",
    "    stat = anderson(data, dist='norm')[0]\n",
    "    return column, stat\n"
   ]
  },
  {
   "cell_type": "code",
   "execution_count": 16,
   "metadata": {},
   "outputs": [],
   "source": [
    "def driver():\n",
    "    PROCESSES = 5\n",
    "    with multiprocessing.Pool(PROCESSES) as pool:\n",
    "        params =  [('user',df['user']), \n",
    "                   ('time_stamp',df['time_stamp']), \n",
    "                   ('adgroup_id',df['adgroup_id']),  \n",
    "                   ('nonclk',df['nonclk']),  \n",
    "                   ('clk',df['clk'])]\n",
    "        results = [pool.apply_async(distribution_numeric, p) for p in params]\n",
    "        distributions = {}\n",
    "        for r in results:\n",
    "            result = r.get()\n",
    "            distributions[result[0]] = result[1]\n",
    "        return distributions\n",
    "        \n",
    "\n",
    "\n"
   ]
  },
  {
   "cell_type": "code",
   "execution_count": 17,
   "metadata": {},
   "outputs": [
    {
     "name": "stdout",
     "output_type": "stream",
     "text": [
      "\t ('user', 291249.6999502629)\n",
      "\t ('time_stamp', 314456.14361579716)\n",
      "\t ('adgroup_id', 477517.62918816507)\n",
      "\t ('nonclk', 9569965.01305689)\n",
      "\t ('clk', 9569965.01305689)\n"
     ]
    }
   ],
   "source": [
    "metadata = \"data/alibaba/vesuvio/metadata/distributions.pickle\"\n",
    "distributions = driver()\n"
   ]
  }
 ],
 "metadata": {
  "interpreter": {
   "hash": "c00d913d0eb820e3b11af8ed9747b68073d193344a46a2eca076e04066ffd785"
  },
  "kernelspec": {
   "display_name": "Python 3.8.13 ('deepctr')",
   "language": "python",
   "name": "python3"
  },
  "language_info": {
   "codemirror_mode": {
    "name": "ipython",
    "version": 3
   },
   "file_extension": ".py",
   "mimetype": "text/x-python",
   "name": "python",
   "nbconvert_exporter": "python",
   "pygments_lexer": "ipython3",
   "version": "3.8.13"
  },
  "orig_nbformat": 4
 },
 "nbformat": 4,
 "nbformat_minor": 2
}
