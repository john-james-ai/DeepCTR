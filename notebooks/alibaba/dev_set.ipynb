{
 "cells": [
  {
   "cell_type": "markdown",
   "metadata": {},
   "source": [
    "# Alibaba Development Set\n",
    "Creates an optimal class-proportional, distribution-preserving sample of the alibaba dataset that can be used in profiler and exploratory development. Four files make up the Alibaba dataset:\n",
    "\n",
    "- impression: Core file containing a user, an ad and the target variable, 'click'.\n",
    "- ad: Ad basic information for all ads in the impression table.    \n",
    "- user: User profile information \n",
    "- behavior: User browsing, shopping cart, favorite, and purchase behaviors\n",
    "\n",
    "The samples will be taken from the impression table. Ad, user and behavior data will be include via joins with the sampled impression data.\n",
    "\n",
    "To obtain a subsample that reflects the structure of the original alibaba dataset, repeated samples will be taken and the sample chosen will be that which has a distribution most similar to the distribution of the full dataset. \n",
    "\n",
    "## Distribution Density Measure\n",
    "Several statistical methods are available for measuring and comparing density distributions. For this assignment, we will measure the degree to which the data follow a normal distribution using the Anderson-Darling test. The test statistic is defined as:\n",
    "\n",
    "$$A^2=-n-S$$\n",
    "\n",
    "where:\n",
    "$$\n",
    "S=\\displaystyle\\sum_{i=1}^n\\frac{(2i-1)}{n}[\\text{ln}\\, F(Y_i) + \\text{ln}(1-F(Y_{n+1-i}))]\n",
    "$$\n",
    "\n",
    "$F$ is the [cumulative distribution function](https://en.wikipedia.org/wiki/Cumulative_distribution_function) of the normal distribution, $Y_i$ is *ordered* data and $n$ is the sample size.\n",
    "\n",
    "## Selection Criteria\n",
    "Using the Anderson Darling test statistic, the best subsample will be that which had the smallest distance in each variable from the distribution of the respective original variable. Concretely, we will select the best sample as:\n",
    "\n",
    "$$\n",
    "\\text{Best Sample = min(max(Distance(Sample-Original)))}\n",
    "$$\n",
    "\n",
    "## Original Dataset\n",
    "The distribution densities for the original impression table are abtained as follows."
   ]
  },
  {
   "cell_type": "code",
   "execution_count": null,
   "metadata": {},
   "outputs": [],
   "source": [
    "from deepctr.persistence.dal import DataParam, DataTableDAO"
   ]
  },
  {
   "cell_type": "code",
   "execution_count": null,
   "metadata": {},
   "outputs": [],
   "source": [
    "dto = DataParam(name='impression', dataset='alibaba_staged', asset='alibaba', stage='staged', env='test', format='parquet')\n",
    "dao = DataTableDAO()\n",
    "impression = dao.read(dto)\n",
    "impression.show()\n",
    "      "
   ]
  }
 ],
 "metadata": {
  "interpreter": {
   "hash": "c00d913d0eb820e3b11af8ed9747b68073d193344a46a2eca076e04066ffd785"
  },
  "kernelspec": {
   "display_name": "Python 3.8.13 ('deepctr')",
   "language": "python",
   "name": "python3"
  },
  "language_info": {
   "name": "python",
   "version": "3.8.13"
  },
  "orig_nbformat": 4
 },
 "nbformat": 4,
 "nbformat_minor": 2
}
